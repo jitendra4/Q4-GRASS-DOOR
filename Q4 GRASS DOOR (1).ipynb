{
 "cells": [
  {
   "cell_type": "code",
   "execution_count": 14,
   "metadata": {},
   "outputs": [
    {
     "name": "stdout",
     "output_type": "stream",
     "text": [
      "Requirement already satisfied: selenium in d:\\new folder\\lib\\site-packages (3.141.0)\n",
      "Requirement already satisfied: urllib3 in d:\\new folder\\lib\\site-packages (from selenium) (1.25.11)\n"
     ]
    }
   ],
   "source": [
    "!pip install selenium"
   ]
  },
  {
   "cell_type": "code",
   "execution_count": 23,
   "metadata": {},
   "outputs": [],
   "source": [
    "#LET REQRURIED LALARARIES\n",
    "import selenium\n",
    "import pandas as pd\n",
    "from selenium import webdriver"
   ]
  },
  {
   "cell_type": "code",
   "execution_count": 24,
   "metadata": {},
   "outputs": [],
   "source": [
    "# go to link= https://chromedriver.chromium.org/downloads"
   ]
  },
  {
   "cell_type": "code",
   "execution_count": 25,
   "metadata": {},
   "outputs": [],
   "source": [
    "# lets frist connect to the web drivers\n",
    "driver= webdriver.Chrome(r\"C:\\Users\\G\\Downloads\\chromedriver_win32\\chromedriver.exe\")"
   ]
  },
  {
   "cell_type": "code",
   "execution_count": 26,
   "metadata": {},
   "outputs": [],
   "source": [
    "# spectfying the URL of the webpage to be scraped\n",
    "url= (\"https://www.glassdoor.co.in/Job/noida-data-scientist-jobs-SRCH_IL.0,5_IC4477468_KO6,20.htm?srs=JOBS_HOME_RECENT_SEARCHES\")"
   ]
  },
  {
   "cell_type": "code",
   "execution_count": 27,
   "metadata": {},
   "outputs": [],
   "source": [
    "# let open the webpage through our web drivers\n",
    "driver.get(url)"
   ]
  },
  {
   "cell_type": "code",
   "execution_count": 28,
   "metadata": {},
   "outputs": [],
   "source": [
    "company_name=[]\n",
    "day_ago=[]\n",
    "rating_company=[]"
   ]
  },
  {
   "cell_type": "code",
   "execution_count": 29,
   "metadata": {},
   "outputs": [
    {
     "data": {
      "text/plain": [
       "[<selenium.webdriver.remote.webelement.WebElement (session=\"75c4fd12e0facd7a280e21bf0da39d4e\", element=\"6baf9dcb-0a6a-4d17-88c9-c8ff10ec83c8\")>,\n",
       " <selenium.webdriver.remote.webelement.WebElement (session=\"75c4fd12e0facd7a280e21bf0da39d4e\", element=\"c09c8cfc-9e0b-4035-9860-6e8608b498a9\")>,\n",
       " <selenium.webdriver.remote.webelement.WebElement (session=\"75c4fd12e0facd7a280e21bf0da39d4e\", element=\"89e86f93-fca9-4194-b6ee-50560f3457be\")>,\n",
       " <selenium.webdriver.remote.webelement.WebElement (session=\"75c4fd12e0facd7a280e21bf0da39d4e\", element=\"e1fe911c-bc33-40eb-a4aa-557e7ea1a507\")>]"
      ]
     },
     "execution_count": 29,
     "metadata": {},
     "output_type": "execute_result"
    }
   ],
   "source": [
    "# let extract all the tags having the company name\n",
    "company_tag= driver.find_elements_by_xpath(\"//div[@class='jobHeader d-flex justify-content-between align-items-start']\")\n",
    "company_tag[0:4]"
   ]
  },
  {
   "cell_type": "code",
   "execution_count": 30,
   "metadata": {},
   "outputs": [
    {
     "data": {
      "text/plain": [
       "['UnitedHealth Group',\n",
       " 'Genpact',\n",
       " 'Builder.ai - What would you Build?',\n",
       " 'Brickred',\n",
       " 'Terra Economics & Analytics Lab (TEAL)']"
      ]
     },
     "execution_count": 30,
     "metadata": {},
     "output_type": "execute_result"
    }
   ],
   "source": [
    "# let extracted comapny name all items for loop\n",
    "for i in company_tag:\n",
    "    company=i.text\n",
    "    company_name.append(company)\n",
    "company_name[0:5]"
   ]
  },
  {
   "cell_type": "code",
   "execution_count": 31,
   "metadata": {},
   "outputs": [
    {
     "data": {
      "text/plain": [
       "[<selenium.webdriver.remote.webelement.WebElement (session=\"75c4fd12e0facd7a280e21bf0da39d4e\", element=\"e6b93e05-b0f5-4118-b3e7-1e834f7c82b9\")>,\n",
       " <selenium.webdriver.remote.webelement.WebElement (session=\"75c4fd12e0facd7a280e21bf0da39d4e\", element=\"2cb35070-0ff4-4744-bb3b-3769d3bd653d\")>,\n",
       " <selenium.webdriver.remote.webelement.WebElement (session=\"75c4fd12e0facd7a280e21bf0da39d4e\", element=\"05c6dbb1-ecbb-4878-b8f5-fc4f649ed45c\")>,\n",
       " <selenium.webdriver.remote.webelement.WebElement (session=\"75c4fd12e0facd7a280e21bf0da39d4e\", element=\"644e6b40-5894-4478-bf20-c8cc4960a664\")>]"
      ]
     },
     "execution_count": 31,
     "metadata": {},
     "output_type": "execute_result"
    }
   ],
   "source": [
    "# let extract all the tags having the day-ago\n",
    "day_tag= driver.find_elements_by_xpath(\"//div[@class='d-flex align-items-end pl-std css-mi55ob']\")\n",
    "day_tag[0:4]"
   ]
  },
  {
   "cell_type": "code",
   "execution_count": 37,
   "metadata": {},
   "outputs": [
    {
     "data": {
      "text/plain": [
       "['1d', '9d', '24d', '24h']"
      ]
     },
     "execution_count": 37,
     "metadata": {},
     "output_type": "execute_result"
    }
   ],
   "source": [
    "# let extracted day-ago all items for loop\n",
    "for i in day_tag:\n",
    "    day=i.text\n",
    "    day_ago.append(day)\n",
    "day_ago[0:4]"
   ]
  },
  {
   "cell_type": "code",
   "execution_count": 71,
   "metadata": {},
   "outputs": [
    {
     "data": {
      "text/plain": [
       "[<selenium.webdriver.remote.webelement.WebElement (session=\"75c4fd12e0facd7a280e21bf0da39d4e\", element=\"159d0f9d-197a-471d-aa17-bc3bfd9f71db\")>,\n",
       " <selenium.webdriver.remote.webelement.WebElement (session=\"75c4fd12e0facd7a280e21bf0da39d4e\", element=\"348bc0be-ef22-403b-861b-b5c8436aaa30\")>,\n",
       " <selenium.webdriver.remote.webelement.WebElement (session=\"75c4fd12e0facd7a280e21bf0da39d4e\", element=\"e30d7fb4-c31b-4e15-ba87-e813f770f8d3\")>,\n",
       " <selenium.webdriver.remote.webelement.WebElement (session=\"75c4fd12e0facd7a280e21bf0da39d4e\", element=\"112cdf61-3e43-4871-b78c-890f794d7ba1\")>]"
      ]
     },
     "execution_count": 71,
     "metadata": {},
     "output_type": "execute_result"
    }
   ],
   "source": [
    "# let extract all the tags having the company-names\n",
    "rating_tag= driver.find_elements_by_xpath(\"//div[@class='d-flex flex-column css-fbt9gv e1rrn5ka2']/span[1]\")\n",
    "rating_tag[0:4]"
   ]
  },
  {
   "cell_type": "code",
   "execution_count": 73,
   "metadata": {},
   "outputs": [
    {
     "data": {
      "text/plain": [
       "['', '', '', '']"
      ]
     },
     "execution_count": 73,
     "metadata": {},
     "output_type": "execute_result"
    }
   ],
   "source": [
    "# let extracted day-ago all items for loop\n",
    "for i in rating_tag:\n",
    "    rating=i.text\n",
    "    rating_company.append(rating)\n",
    "rating_company[0:4]"
   ]
  },
  {
   "cell_type": "code",
   "execution_count": 74,
   "metadata": {},
   "outputs": [
    {
     "name": "stdout",
     "output_type": "stream",
     "text": [
      "30 60 168\n"
     ]
    }
   ],
   "source": [
    "print(len(company_name),\n",
    "len(day_ago),\n",
    "len(rating_company))"
   ]
  },
  {
   "cell_type": "code",
   "execution_count": 75,
   "metadata": {},
   "outputs": [
    {
     "data": {
      "text/html": [
       "<div>\n",
       "<style scoped>\n",
       "    .dataframe tbody tr th:only-of-type {\n",
       "        vertical-align: middle;\n",
       "    }\n",
       "\n",
       "    .dataframe tbody tr th {\n",
       "        vertical-align: top;\n",
       "    }\n",
       "\n",
       "    .dataframe thead th {\n",
       "        text-align: right;\n",
       "    }\n",
       "</style>\n",
       "<table border=\"1\" class=\"dataframe\">\n",
       "  <thead>\n",
       "    <tr style=\"text-align: right;\">\n",
       "      <th></th>\n",
       "      <th>company</th>\n",
       "      <th>day</th>\n",
       "      <th>rating</th>\n",
       "    </tr>\n",
       "  </thead>\n",
       "  <tbody>\n",
       "    <tr>\n",
       "      <th>0</th>\n",
       "      <td>UnitedHealth Group</td>\n",
       "      <td>1d</td>\n",
       "      <td></td>\n",
       "    </tr>\n",
       "    <tr>\n",
       "      <th>1</th>\n",
       "      <td>Genpact</td>\n",
       "      <td>9d</td>\n",
       "      <td></td>\n",
       "    </tr>\n",
       "    <tr>\n",
       "      <th>2</th>\n",
       "      <td>Builder.ai - What would you Build?</td>\n",
       "      <td>24d</td>\n",
       "      <td></td>\n",
       "    </tr>\n",
       "    <tr>\n",
       "      <th>3</th>\n",
       "      <td>Brickred</td>\n",
       "      <td>24h</td>\n",
       "      <td></td>\n",
       "    </tr>\n",
       "    <tr>\n",
       "      <th>4</th>\n",
       "      <td>Terra Economics &amp; Analytics Lab (TEAL)</td>\n",
       "      <td>10d</td>\n",
       "      <td></td>\n",
       "    </tr>\n",
       "    <tr>\n",
       "      <th>5</th>\n",
       "      <td>abc consultants</td>\n",
       "      <td>9d</td>\n",
       "      <td></td>\n",
       "    </tr>\n",
       "    <tr>\n",
       "      <th>6</th>\n",
       "      <td>Algoscale</td>\n",
       "      <td>8d</td>\n",
       "      <td></td>\n",
       "    </tr>\n",
       "    <tr>\n",
       "      <th>7</th>\n",
       "      <td>Priority Vendor</td>\n",
       "      <td>8d</td>\n",
       "      <td></td>\n",
       "    </tr>\n",
       "    <tr>\n",
       "      <th>8</th>\n",
       "      <td>Biz2Credit Inc</td>\n",
       "      <td>17d</td>\n",
       "      <td></td>\n",
       "    </tr>\n",
       "    <tr>\n",
       "      <th>9</th>\n",
       "      <td>Gauge Data Solutions</td>\n",
       "      <td>8d</td>\n",
       "      <td></td>\n",
       "    </tr>\n",
       "  </tbody>\n",
       "</table>\n",
       "</div>"
      ],
      "text/plain": [
       "                                  company  day rating\n",
       "0                      UnitedHealth Group   1d       \n",
       "1                                 Genpact   9d       \n",
       "2      Builder.ai - What would you Build?  24d       \n",
       "3                                Brickred  24h       \n",
       "4  Terra Economics & Analytics Lab (TEAL)  10d       \n",
       "5                         abc consultants   9d       \n",
       "6                               Algoscale   8d       \n",
       "7                         Priority Vendor   8d       \n",
       "8                          Biz2Credit Inc  17d       \n",
       "9                    Gauge Data Solutions   8d       "
      ]
     },
     "execution_count": 75,
     "metadata": {},
     "output_type": "execute_result"
    }
   ],
   "source": [
    "import pandas as pd\n",
    "jobs= pd.DataFrame({})\n",
    "jobs['company']=company_name[0:10]\n",
    "jobs['day']=day_ago[0:10]\n",
    "jobs['rating']=rating_company[0:10]\n",
    "jobs"
   ]
  },
  {
   "cell_type": "code",
   "execution_count": null,
   "metadata": {},
   "outputs": [],
   "source": []
  },
  {
   "cell_type": "code",
   "execution_count": null,
   "metadata": {},
   "outputs": [],
   "source": []
  }
 ],
 "metadata": {
  "kernelspec": {
   "display_name": "Python 3",
   "language": "python",
   "name": "python3"
  },
  "language_info": {
   "codemirror_mode": {
    "name": "ipython",
    "version": 3
   },
   "file_extension": ".py",
   "mimetype": "text/x-python",
   "name": "python",
   "nbconvert_exporter": "python",
   "pygments_lexer": "ipython3",
   "version": "3.8.5"
  }
 },
 "nbformat": 4,
 "nbformat_minor": 4
}
